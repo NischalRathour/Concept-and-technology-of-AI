{
  "nbformat": 4,
  "nbformat_minor": 0,
  "metadata": {
    "colab": {
      "provenance": [],
      "mount_file_id": "1z5R_smvhUxCqmNaZDKApRiYv1L8F4IGL",
      "authorship_tag": "ABX9TyPo6Nx23ZXnVxl2tYm+CflG",
      "include_colab_link": true
    },
    "kernelspec": {
      "name": "python3",
      "display_name": "Python 3"
    },
    "language_info": {
      "name": "python"
    }
  },
  "cells": [
    {
      "cell_type": "markdown",
      "metadata": {
        "id": "view-in-github",
        "colab_type": "text"
      },
      "source": [
        "<a href=\"https://colab.research.google.com/github/NischalRathour/Concept-and-technology-of-AI/blob/main/Worksheet5.ipynb\" target=\"_parent\"><img src=\"https://colab.research.google.com/assets/colab-badge.svg\" alt=\"Open In Colab\"/></a>"
      ]
    },
    {
      "cell_type": "markdown",
      "source": [
        "• To - Do - 1:\n",
        "1. Read and Observe the Dataset.\n",
        "2. Print top(5) and bottom(5) of the dataset {Hint: pd.head and pd.tail}.\n",
        "3. Print the Information of Datasets. {Hint: pd.info}.\n",
        "4. Gather the Descriptive info about the Dataset. {Hint: pd.describe}\n",
        "5. Split your data into Feature (X) and Label (Y)."
      ],
      "metadata": {
        "id": "U9wa_NwXeM64"
      }
    },
    {
      "cell_type": "code",
      "source": [
        "import pandas as pd\n",
        "\n",
        "data = pd.read_csv('/content/drive/MyDrive/Colab Notebooks/concept and technology of AI/Datasets/student.csv')\n",
        "\n",
        "print(\"Top 5 rows of the dataset:\")\n",
        "print(data.head())\n",
        "\n",
        "print(\"\\nBottom 5 rows of the dataset:\")\n",
        "print(data.tail())\n",
        "\n",
        "print(\"\\nDataset Information:\")\n",
        "print(data.info())\n",
        "\n",
        "print(\"\\nDescriptive Statistics:\")\n",
        "print(data.describe())\n",
        "\n",
        "X = data[['Math', 'Reading']].values\n",
        "Y = data['Writing'].values\n",
        "\n",
        "print(\"\\nFeature Matrix (X):\")\n",
        "print(X[:5])\n",
        "\n",
        "print(\"\\nTarget Vector (Y):\")\n",
        "print(Y[:5])\n"
      ],
      "metadata": {
        "colab": {
          "base_uri": "https://localhost:8080/"
        },
        "id": "J5ryq4IDgvbS",
        "outputId": "c74d3ad2-c435-4af3-89f0-e13c39f6cdf5"
      },
      "execution_count": 13,
      "outputs": [
        {
          "output_type": "stream",
          "name": "stdout",
          "text": [
            "Top 5 rows of the dataset:\n",
            "   Math  Reading  Writing\n",
            "0    48       68       63\n",
            "1    62       81       72\n",
            "2    79       80       78\n",
            "3    76       83       79\n",
            "4    59       64       62\n",
            "\n",
            "Bottom 5 rows of the dataset:\n",
            "     Math  Reading  Writing\n",
            "995    72       74       70\n",
            "996    73       86       90\n",
            "997    89       87       94\n",
            "998    83       82       78\n",
            "999    66       66       72\n",
            "\n",
            "Dataset Information:\n",
            "<class 'pandas.core.frame.DataFrame'>\n",
            "RangeIndex: 1000 entries, 0 to 999\n",
            "Data columns (total 3 columns):\n",
            " #   Column   Non-Null Count  Dtype\n",
            "---  ------   --------------  -----\n",
            " 0   Math     1000 non-null   int64\n",
            " 1   Reading  1000 non-null   int64\n",
            " 2   Writing  1000 non-null   int64\n",
            "dtypes: int64(3)\n",
            "memory usage: 23.6 KB\n",
            "None\n",
            "\n",
            "Descriptive Statistics:\n",
            "              Math      Reading      Writing\n",
            "count  1000.000000  1000.000000  1000.000000\n",
            "mean     67.290000    69.872000    68.616000\n",
            "std      15.085008    14.657027    15.241287\n",
            "min      13.000000    19.000000    14.000000\n",
            "25%      58.000000    60.750000    58.000000\n",
            "50%      68.000000    70.000000    69.500000\n",
            "75%      78.000000    81.000000    79.000000\n",
            "max     100.000000   100.000000   100.000000\n",
            "\n",
            "Feature Matrix (X):\n",
            "[[48 68]\n",
            " [62 81]\n",
            " [79 80]\n",
            " [76 83]\n",
            " [59 64]]\n",
            "\n",
            "Target Vector (Y):\n",
            "[63 72 78 79 62]\n"
          ]
        }
      ]
    },
    {
      "cell_type": "markdown",
      "source": [
        "• To - Do - 2:\n",
        "1. To make the task easier - let’s assume there is no bias or intercept.\n",
        "2. Create the following matrices:\n",
        "Y = WTXW =\n",
        "\n",
        "\n",
        "\n",
        "\n",
        "\n",
        "w1\n",
        "w2\n",
        ".\n",
        ".\n",
        ".\n",
        "wd\n",
        "\n",
        "\n",
        "\n",
        "\n",
        "\n",
        ", where W ∈ R\n",
        "d\n",
        "X =\n",
        "\n",
        "\n",
        "\n",
        "\n",
        "\n",
        "x1,1 x1,2 · · · x1,n\n",
        "x2,1 x2,2 · · · x2,n\n",
        ".\n",
        ".\n",
        ".\n",
        ".\n",
        ".\n",
        ".\n",
        ".\n",
        ".\n",
        ".\n",
        ".\n",
        ".\n",
        ".\n",
        "xd,1 xd,2 · · · xd,n\n",
        "\n",
        "\n",
        "\n",
        "\n",
        "\n",
        ", where X ∈ R\n",
        "d×n\n",
        "Y =\n",
        "\n",
        "\n",
        "\n",
        "\n",
        "\n",
        "y1\n",
        "y2\n",
        ".\n",
        ".\n",
        ".\n",
        "yn\n",
        "\n",
        "\n",
        "\n",
        "\n",
        "\n",
        ", where Y ∈ R\n",
        "n\n",
        "3. Note: The feature matrix described above does not include a column of 1s, as it assumes the\n",
        "absence of a bias term in the model.\n"
      ],
      "metadata": {
        "id": "pcYGlHjljImt"
      }
    },
    {
      "cell_type": "code",
      "source": [
        "import numpy as np\n",
        "\n",
        "X_transposed = X.T\n",
        "d = X.shape[1]\n",
        "W = np.zeros((d, 1))\n",
        "Y_reshaped = Y.reshape(-1, 1)\n",
        "\n",
        "print(f\"X (Feature Matrix): {X.shape} -> Transposed: {X_transposed.shape}\")\n",
        "print(f\"W (Weight Matrix): {W.shape}\")\n",
        "print(f\"Y (Target Vector): {Y_reshaped.shape}\")\n",
        "\n",
        "Y_pred = np.dot(X, W)\n",
        "print(f\"Predicted Y (initial, all zeros): \\n{Y_pred[:5]}\")\n"
      ],
      "metadata": {
        "colab": {
          "base_uri": "https://localhost:8080/"
        },
        "id": "4vH0jW70jXzV",
        "outputId": "1ccb9e56-b0de-44d1-ff8c-baa45d2febea"
      },
      "execution_count": 14,
      "outputs": [
        {
          "output_type": "stream",
          "name": "stdout",
          "text": [
            "X (Feature Matrix): (1000, 2) -> Transposed: (2, 1000)\n",
            "W (Weight Matrix): (2, 1)\n",
            "Y (Target Vector): (1000, 1)\n",
            "Predicted Y (initial, all zeros): \n",
            "[[0.]\n",
            " [0.]\n",
            " [0.]\n",
            " [0.]\n",
            " [0.]]\n"
          ]
        }
      ]
    },
    {
      "cell_type": "markdown",
      "source": [
        "• To - Do - 3:\n",
        "1. Split the dataset into training and test sets.\n",
        "2. You can use an 80-20 or 70-30 split, with 80% (or 70%) of the data used for training and the rest\n",
        "for testing.\n"
      ],
      "metadata": {
        "id": "NTMWAkGvm_sY"
      }
    },
    {
      "cell_type": "code",
      "source": [
        "from sklearn.model_selection import train_test_split\n",
        "\n",
        "X_train, X_test, Y_train, Y_test = train_test_split(X, Y, test_size=0.2, random_state=42)\n",
        "\n",
        "print(f\"Training Set (X_train): {X_train.shape}\")\n",
        "print(f\"Training Set (Y_train): {Y_train.shape}\")\n",
        "print(f\"Test Set (X_test): {X_test.shape}\")\n",
        "print(f\"Test Set (Y_test): {Y_test.shape}\")\n"
      ],
      "metadata": {
        "colab": {
          "base_uri": "https://localhost:8080/"
        },
        "id": "q_CfMMmenBU5",
        "outputId": "f0c6cb9a-87ce-409e-8da3-919d06b17032"
      },
      "execution_count": 15,
      "outputs": [
        {
          "output_type": "stream",
          "name": "stdout",
          "text": [
            "Training Set (X_train): (800, 2)\n",
            "Training Set (Y_train): (800,)\n",
            "Test Set (X_test): (200, 2)\n",
            "Test Set (Y_test): (200,)\n"
          ]
        }
      ]
    },
    {
      "cell_type": "markdown",
      "source": [
        "3.1.5 Step -5- Main Function to Integrate All Steps:\n",
        "In this section, we will create a main function that integrates the data loading, preprocessing, cost function,\n",
        "gradient descent, and model evaluation. This will help in running the entire workflow with minimal effort.\n",
        "• Objective:\n",
        "The objective of the main function is to execute the full process, from loading the data to performing\n",
        "linear regression using gradient descent and evaluating the results using metrics like RMSE and R2\n",
        ".\n",
        "• To - Do:\n",
        "We will define a function that:\n",
        "1. Loads the data and splits it into training and test sets.\n",
        "2. Prepares the feature matrix (X) and target vector (Y).\n",
        "3. Defines the weight matrix (W) and initializes the learning rate and number of iterations.\n",
        "4. Calls the gradient descent function to learn the parameters.\n",
        "5. Evaluates the model using RMSE and R2\n",
        ".\n"
      ],
      "metadata": {
        "id": "NW_YHZmtnwzG"
      }
    },
    {
      "cell_type": "code",
      "source": [
        "import pandas as pd\n",
        "import numpy as np\n",
        "from sklearn.model_selection import train_test_split\n",
        "import matplotlib.pyplot as plt\n",
        "\n",
        "def cost_function(X, Y, W):\n",
        "    m = len(Y)\n",
        "    Y_pred = np.dot(X, W)\n",
        "    cost = (1 / (2 * m)) * np.sum((Y_pred - Y) ** 2)\n",
        "    return cost\n",
        "\n",
        "def gradient_descent(X, Y, W, alpha, iterations):\n",
        "    m = len(Y)\n",
        "    cost_history = []\n",
        "\n",
        "    for _ in range(iterations):\n",
        "        Y_pred = np.dot(X, W)\n",
        "        loss = Y_pred - Y\n",
        "        gradient = (1 / m) * np.dot(X.T, loss)\n",
        "        W -= alpha * gradient\n",
        "        cost = cost_function(X, Y, W)\n",
        "        cost_history.append(cost)\n",
        "\n",
        "    return W, cost_history\n",
        "\n",
        "def rmse(Y, Y_pred):\n",
        "    return np.sqrt(np.mean((Y - Y_pred) ** 2))\n",
        "\n",
        "def r2(Y, Y_pred):\n",
        "    mean_y = np.mean(Y)\n",
        "    ss_tot = np.sum((Y - mean_y) ** 2)\n",
        "    ss_res = np.sum((Y - Y_pred) ** 2)\n",
        "    return 1 - (ss_res / ss_tot)\n",
        "\n",
        "def main():\n",
        "    data = pd.read_csv('/content/drive/MyDrive/Colab Notebooks/concept and technology of AI/Datasets/student.csv')\n",
        "    X = data[['Math', 'Reading']].values\n",
        "    Y = data['Writing'].values.reshape(-1, 1)\n",
        "    X = np.c_[np.ones((X.shape[0], 1)), X]\n",
        "    X_train, X_test, Y_train, Y_test = train_test_split(X, Y, test_size=0.2, random_state=42)\n",
        "    W = np.zeros((X_train.shape[1], 1))\n",
        "    alpha = 0.01\n",
        "    iterations = 1000\n",
        "    W_optimal, cost_history = gradient_descent(X_train, Y_train, W, alpha, iterations)\n",
        "    Y_pred = np.dot(X_test, W_optimal)\n",
        "    model_rmse = rmse(Y_test, Y_pred)\n",
        "    model_r2 = r2(Y_test, Y_pred)\n",
        "    print(\"Final Weights:\", W_optimal.flatten())\n",
        "    print(\"Cost History (First 10 iterations):\", cost_history[:10])\n",
        "    print(\"RMSE on Test Set:\", model_rmse)\n",
        "    print(\"R-Squared on Test Set:\", model_r2)\n",
        "    plt.plot(range(len(cost_history)), cost_history)\n",
        "    plt.xlabel(\"Iterations\")\n",
        "    plt.ylabel(\"Cost\")\n",
        "    plt.title(\"Cost Function Convergence\")\n",
        "    plt.show()\n",
        "\n",
        "if __name__ == \"__main__\":\n",
        "    main()\n"
      ],
      "metadata": {
        "colab": {
          "base_uri": "https://localhost:8080/",
          "height": 666
        },
        "id": "enuWEhVVnxNQ",
        "outputId": "af747d2b-8240-47e7-9afc-3ee4951bb338"
      },
      "execution_count": 17,
      "outputs": [
        {
          "output_type": "stream",
          "name": "stderr",
          "text": [
            "/usr/local/lib/python3.10/dist-packages/numpy/core/fromnumeric.py:88: RuntimeWarning: overflow encountered in reduce\n",
            "  return ufunc.reduce(obj, axis, dtype, out, **passkwargs)\n",
            "<ipython-input-17-5a52921b9656>:9: RuntimeWarning: overflow encountered in square\n",
            "  cost = (1 / (2 * m)) * np.sum((Y_pred - Y) ** 2)\n",
            "<ipython-input-17-5a52921b9656>:20: RuntimeWarning: invalid value encountered in subtract\n",
            "  W -= alpha * gradient\n"
          ]
        },
        {
          "output_type": "stream",
          "name": "stdout",
          "text": [
            "Final Weights: [nan nan nan]\n",
            "Cost History (First 10 iterations): [23207584.144711904, 219421352893.3128, 2074569920226421.8, 1.9614501038174667e+19, 1.8544983575900264e+23, 1.7533783559472862e+27, 1.6577721120764925e+31, 1.5673789779923484e+35, 1.4819146991049035e+39, 1.4011105203389428e+43]\n",
            "RMSE on Test Set: nan\n",
            "R-Squared on Test Set: nan\n"
          ]
        },
        {
          "output_type": "display_data",
          "data": {
            "text/plain": [
              "<Figure size 640x480 with 1 Axes>"
            ],
            "image/png": "[encoded data removed]"
          },
          "metadata": {}
        }
      ]
    }
  ]
}